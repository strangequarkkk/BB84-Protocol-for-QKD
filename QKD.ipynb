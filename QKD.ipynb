{
 "cells": [
  {
   "cell_type": "markdown",
   "metadata": {},
   "source": [
    "'Author - Mahid Anjum (mahidanjum@gmail.com)'"
   ]
  },
  {
   "cell_type": "code",
   "execution_count": 8,
   "metadata": {},
   "outputs": [],
   "source": [
    "import matplotlib as mpl\n",
    "import numpy as np\n",
    "import matplotlib.pyplot as plt\n",
    "from qiskit import QuantumCircuit, Aer, transpile, assemble\n",
    "from qiskit.visualization import plot_histogram, plot_bloch_multivector"
   ]
  },
  {
   "cell_type": "code",
   "execution_count": 9,
   "metadata": {},
   "outputs": [
    {
     "data": {
      "text/html": [
       "<pre style=\"word-wrap: normal;white-space: pre;background: #fff0;line-height: 1.1;font-family: &quot;Courier New&quot;,Courier,monospace\">     ┌───┐ ░ ┌───┐┌─┐\n",
       "  q: ┤ H ├─░─┤ H ├┤M├\n",
       "     └───┘ ░ └───┘└╥┘\n",
       "c: 1/══════════════╩═\n",
       "                   0 </pre>"
      ],
      "text/plain": [
       "     ┌───┐ ░ ┌───┐┌─┐\n",
       "  q: ┤ H ├─░─┤ H ├┤M├\n",
       "     └───┘ ░ └───┘└╥┘\n",
       "c: 1/══════════════╩═\n",
       "                   0 "
      ]
     },
     "metadata": {},
     "output_type": "display_data"
    },
    {
     "data": {
      "image/png": "[encoded data removed]",
      "text/plain": [
       "<Figure size 504x360 with 1 Axes>"
      ]
     },
     "execution_count": 9,
     "metadata": {},
     "output_type": "execute_result"
    }
   ],
   "source": [
    "qc = QuantumCircuit(1,1)\n",
    "# Alice prepares qubit in state |+>\n",
    "qc.h(0)\n",
    "qc.barrier()\n",
    "# Alice now sends the qubit to Bob\n",
    "# who measures it in the X-basis\n",
    "qc.h(0)\n",
    "qc.measure(0,0)\n",
    "\n",
    "# Draw and simulate circuit\n",
    "display(qc.draw())\n",
    "aer_sim = Aer.get_backend('aer_simulator')\n",
    "job = aer_sim.run(assemble(qc))\n",
    "plot_histogram(job.result().get_counts())\n"
   ]
  },
  {
   "cell_type": "code",
   "execution_count": 10,
   "metadata": {},
   "outputs": [
    {
     "data": {
      "text/html": [
       "<pre style=\"word-wrap: normal;white-space: pre;background: #fff0;line-height: 1.1;font-family: &quot;Courier New&quot;,Courier,monospace\">     ┌───┐┌─┐ ░ ┌───┐┌─┐\n",
       "  q: ┤ H ├┤M├─░─┤ H ├┤M├\n",
       "     └───┘└╥┘ ░ └───┘└╥┘\n",
       "c: 1/══════╩══════════╩═\n",
       "           0          0 </pre>"
      ],
      "text/plain": [
       "     ┌───┐┌─┐ ░ ┌───┐┌─┐\n",
       "  q: ┤ H ├┤M├─░─┤ H ├┤M├\n",
       "     └───┘└╥┘ ░ └───┘└╥┘\n",
       "c: 1/══════╩══════════╩═\n",
       "           0          0 "
      ]
     },
     "metadata": {},
     "output_type": "display_data"
    },
    {
     "data": {
      "image/png": "[encoded data removed]",
      "text/plain": [
       "<Figure size 504x360 with 1 Axes>"
      ]
     },
     "execution_count": 10,
     "metadata": {},
     "output_type": "execute_result"
    }
   ],
   "source": [
    "qc = QuantumCircuit(1,1)\n",
    "# Alice prepares qubit in state |+>\n",
    "qc.h(0)\n",
    "# Alice now sends the qubit to Bob\n",
    "# but Eve intercepts and tries to read it\n",
    "qc.measure(0, 0)\n",
    "qc.barrier()\n",
    "# Eve then passes this on to Bob\n",
    "# who measures it in the X-basis\n",
    "qc.h(0)\n",
    "qc.measure(0,0)\n",
    "\n",
    "# Draw and simulate circuit\n",
    "display(qc.draw())\n",
    "aer_sim = Aer.get_backend('aer_simulator')\n",
    "job = aer_sim.run(assemble(qc))\n",
    "plot_histogram(job.result().get_counts())"
   ]
  },
  {
   "cell_type": "markdown",
   "metadata": {},
   "source": [
    "# <b>WITHOUT INTERCEPTION</b> #"
   ]
  },
  {
   "cell_type": "code",
   "execution_count": 25,
   "metadata": {},
   "outputs": [
    {
     "name": "stdout",
     "output_type": "stream",
     "text": [
      "Alice's key after sifting (without interception) [0, 0, 1, 1, 0, 1, 1, 1, 0, 0, 0, 1, 1, 1, 0, 0, 0, 1, 1, 0, 0, 1, 0, 0, 0, 0, 1, 1, 0, 1, 1, 0, 0, 1, 0, 1, 1, 1, 0, 1, 1, 1, 1, 1, 0, 1, 1, 1, 1, 1, 1, 1, 0]\n",
      "Bob's key after sifting (without interception)   [0, 0, 1, 1, 0, 1, 1, 1, 0, 0, 0, 1, 1, 1, 0, 0, 0, 1, 1, 0, 0, 1, 0, 0, 0, 0, 1, 1, 0, 1, 1, 0, 0, 1, 0, 1, 1, 1, 0, 1, 1, 1, 1, 1, 0, 1, 1, 1, 1, 1, 1, 1, 0]\n",
      "100.0 % of the bits match.\n"
     ]
    }
   ],
   "source": [
    "n = 100\n",
    "## Step 1\n",
    "# Alice generates bits.\n",
    "alice_bits = np.random.randint(0,2,n)\n",
    "\n",
    "## Step 2\n",
    "# Create an array to tell us which qubits\n",
    "# are encoded in which bases\n",
    "alice_bases = np.random.randint(0,2,n)\n",
    "\n",
    "# Function to compare the bits & bases generated by alice, and then 'encode' the message. Basically determines the state of the qubit/photon to send.\n",
    "def encode_message(bits, bases):\n",
    "    message = []\n",
    "    for i in range(n):\n",
    "        qc = QuantumCircuit(1,1)\n",
    "        if bases[i] == 0: # Prepare qubit in Z-basis\n",
    "            if bits[i] == 0:\n",
    "                pass \n",
    "            else:\n",
    "                qc.x(0)\n",
    "        else: # Prepare qubit in X-basis\n",
    "            if bits[i] == 0:\n",
    "                qc.h(0)\n",
    "            else:\n",
    "                qc.x(0)\n",
    "                qc.h(0)\n",
    "        qc.barrier()\n",
    "        message.append(qc)\n",
    "    return message\n",
    "\n",
    "# Alice computes the encoded message using the function defined above.\n",
    "message = encode_message(alice_bits, alice_bases)\n",
    "\n",
    "## Step 3 \n",
    "\n",
    "# Decide which basis to measure in:\n",
    "bob_bases = np.random.randint(0,2,n)\n",
    "\n",
    "# Function to decode the message sent by alice by comparing qubit/photon states with Bob's generated bases.\n",
    "def measure_message(message, bases):\n",
    "    backend = Aer.get_backend('aer_simulator')\n",
    "    measurements = []\n",
    "    for q in range(n):\n",
    "        if bases[q] == 0: # measuring in Z-basis\n",
    "            message[q].measure(0,0)\n",
    "        if bases[q] == 1: # measuring in X-basis\n",
    "            message[q].h(0)\n",
    "            message[q].measure(0,0)\n",
    "        aer_sim = Aer.get_backend('aer_simulator')\n",
    "        qobj = assemble(message[q], shots=1, memory=True)\n",
    "        result = aer_sim.run(qobj).result()\n",
    "        measured_bit = int(result.get_memory()[0])\n",
    "        measurements.append(measured_bit)\n",
    "    return measurements\n",
    "\n",
    "# Decode the message according to his bases \n",
    "bob_results = measure_message(message, bob_bases)\n",
    "\n",
    "## Step 4 \n",
    "\n",
    "# Function to perform sifting i.e. disregard the bits for which Bob's & A;ice's bases didnot match.\n",
    "def remove_garbage(a_bases, b_bases, bits):\n",
    "    good_bits = []\n",
    "    for q in range(n):\n",
    "        if a_bases[q] == b_bases[q]:\n",
    "            # If both used the same basis, add\n",
    "            # this to the list of 'good' bits\n",
    "            good_bits.append(bits[q])\n",
    "    return good_bits\n",
    "\n",
    "# Performing sifting for Alice's and Bob's bits.\n",
    "alice_key = remove_garbage(alice_bases, bob_bases, alice_bits)\n",
    "bob_key = remove_garbage(alice_bases, bob_bases, bob_results)\n",
    "\n",
    "print(\"Alice's key after sifting (without interception)\", alice_key)\n",
    "print(\"Bob's key after sifting (without interception)  \", bob_key)\n",
    "\n",
    "# # Step 5\n",
    "\n",
    "# # Function for parameter estimation i.e. determining the error rate by comparing subsets taen from both Alice's key & Bob's key.\n",
    "# def sample_bits(bits, selection):\n",
    "#     sample = []\n",
    "#     for i in selection:\n",
    "#         # use np.mod to make sure the\n",
    "#         # bit we sample is always in \n",
    "#         # the list range\n",
    "#         i = np.mod(i, len(bits))\n",
    "#         # pop(i) removes the element of the\n",
    "#         # list at index 'i'\n",
    "#         sample.append(bits.pop(i))\n",
    "#     return sample\n",
    "\n",
    "# # Performing parameter estimation & disregarding the bits used for comparison from Alice's & Bob's key.\n",
    "# sample_size = 15\n",
    "# bit_selection = np.random.randint(0,n,size=sample_size)\n",
    "\n",
    "# bob_sample = sample_bits(bob_key, bit_selection)\n",
    "# alice_sample = sample_bits(alice_key, bit_selection)\n",
    "\n",
    "num = 0\n",
    "for i in range(0,len(bob_key)):\n",
    "    if alice_key[i] == bob_key[i]:\n",
    "        num = num + 1\n",
    "\n",
    "matching_bits = (num/len(bob_key))*100\n",
    "print(matching_bits,\"% of the bits match.\")"
   ]
  },
  {
   "cell_type": "markdown",
   "metadata": {},
   "source": [
    "# <b>WITH INTERCEPTION</b> #\n"
   ]
  },
  {
   "cell_type": "code",
   "execution_count": 24,
   "metadata": {},
   "outputs": [
    {
     "name": "stdout",
     "output_type": "stream",
     "text": [
      "Alice's key after sifting (with interception) [1, 1, 1, 0, 0, 0, 0, 1, 0, 0, 0, 1, 1, 1, 1, 0, 0, 0, 0, 0, 1, 1, 1, 1, 0, 1, 0, 1, 0, 1, 1, 0, 0, 1, 0, 1, 1, 0, 0, 0, 1, 0, 0]\n",
      "Bob's key after sifting (with interception)   [1, 0, 0, 0, 0, 1, 1, 1, 1, 0, 1, 0, 1, 0, 1, 0, 1, 0, 1, 1, 0, 0, 0, 0, 0, 1, 0, 1, 0, 1, 0, 1, 0, 1, 0, 1, 1, 0, 0, 0, 0, 1, 0]\n",
      "55.81395348837209 % of the bits match.\n"
     ]
    }
   ],
   "source": [
    "## Step 1\n",
    "alice_bits = np.random.randint(2, size=n)\n",
    "## Step 2\n",
    "alice_bases = np.random.randint(2, size=n)\n",
    "message = encode_message(alice_bits, alice_bases)\n",
    "## Interception!!\n",
    "eve_bases = np.random.randint(2, size=n)\n",
    "intercepted_message = measure_message(message, eve_bases)\n",
    "## Step 3\n",
    "bob_bases = np.random.randint(2, size=n)\n",
    "bob_results = measure_message(message, bob_bases)\n",
    "## Step 4\n",
    "bob_key = remove_garbage(alice_bases, bob_bases, bob_results)\n",
    "alice_key = remove_garbage(alice_bases, bob_bases, alice_bits)\n",
    "\n",
    "print(\"Alice's key after sifting (with interception)\", alice_key)\n",
    "print(\"Bob's key after sifting (with interception)  \", bob_key)\n",
    "# ## Step 5\n",
    "# sample_size = 15\n",
    "# bit_selection = np.random.randint(n, size=sample_size)\n",
    "# bob_sample = sample_bits(bob_key, bit_selection)\n",
    "# alice_sample = sample_bits(alice_key, bit_selection)\n",
    "\n",
    "num = 0\n",
    "for i in range(0,len(bob_key)):\n",
    "    if alice_key[i] == bob_key[i]:\n",
    "        num = num + 1\n",
    "\n",
    "matching_bits = (num/len(bob_key))*100\n",
    "print(matching_bits,\"% of the bits match.\")\n",
    "\n"
   ]
  },
  {
   "cell_type": "markdown",
   "metadata": {},
   "source": [
    "$$ P(Eve\\ dectected) = 1 - P(Eve\\ Undetected) $$\n",
    "$$ P(Eve\\ dectected) = 1 - \\left(\\frac{3}{4} \\right)^{n}$$\n",
    "$$ \\lim_{n\\to\\infty} P(Eve\\ dectected) = 1 $$\n"
   ]
  },
  {
   "cell_type": "code",
   "execution_count": 32,
   "metadata": {},
   "outputs": [
    {
     "data": {
      "text/plain": [
       "[<matplotlib.lines.Line2D at 0x1b0ea3ed040>]"
      ]
     },
     "execution_count": 32,
     "metadata": {},
     "output_type": "execute_result"
    },
    {
     "data": {
      "image/png": "[encoded data removed]",
      "text/plain": [
       "<Figure size 756x432 with 1 Axes>"
      ]
     },
     "metadata": {
      "needs_background": "light"
     },
     "output_type": "display_data"
    }
   ],
   "source": [
    "plt.rcParams['axes.linewidth'] = 2\n",
    "mpl.rcParams['font.family'] = ['Georgia']\n",
    "\n",
    "plt.figure(figsize=(10.5,6))\n",
    "ax=plt.axes()\n",
    "ax.set_title('')                                                               \n",
    "ax.set_xlabel('$n$ (Number of bits drawn from the sifted keys for determining error rate)',fontsize = 18,labelpad=10)                                                            \n",
    "ax.set_ylabel(r'$P(Eve\\ detected)$',fontsize = 18,labelpad=10)   \n",
    "ax.xaxis.set_tick_params(which='major', size=8, width=2, direction='in', top='on')\n",
    "ax.yaxis.set_tick_params(which='major', size=8, width=2, direction='in', top='on')\n",
    "ax.tick_params(axis='x', labelsize=20)\n",
    "ax.tick_params(axis='y', labelsize=20)\n",
    "ax. xaxis. label. set_size(20)\n",
    "ax. yaxis. label. set_size(20) \n",
    "\n",
    "n = 30\n",
    "x = np.arange(n+1)\n",
    "y = 1 - 0.75**x\n",
    "\n",
    "ax.plot(x,y,color = plt.cm.rainbow(np.linspace(0, 1, 5))[0], marker = \"s\", markerfacecolor='r')  "
   ]
  }
 ],
 "metadata": {
  "kernelspec": {
   "display_name": "Python 3.8.5 64-bit",
   "language": "python",
   "name": "python3"
  },
  "language_info": {
   "codemirror_mode": {
    "name": "ipython",
    "version": 3
   },
   "file_extension": ".py",
   "mimetype": "text/x-python",
   "name": "python",
   "nbconvert_exporter": "python",
   "pygments_lexer": "ipython3",
   "version": "3.8.5"
  },
  "orig_nbformat": 4,
  "vscode": {
   "interpreter": {
    "hash": "93aabbffca0746b918e544fc88dc8b81eee616e9ac7d47b9ac778f042db563c5"
   }
  }
 },
 "nbformat": 4,
 "nbformat_minor": 2
}
